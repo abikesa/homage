{
 "cells": [
  {
   "cell_type": "markdown",
   "metadata": {},
   "source": [
    "(homage)=\n",
    "# Homage\n",
    "\n",
    "> *From the point of view of form, the `arche`type of all the arts is the art of the musician - Oscar Wilde*  \n",
    "\n",
    "          1. f(t)\n",
    "                \\\n",
    "     2. S(t) -> 4. y:h'(t)=0;t(X'X)X'Y -> 5. b -> 6. SV'\n",
    "                /\n",
    "                3. h(t)\n",
    "\n",
    "## 1 Allegory\n",
    "\n",
    "### Inherited fetters, $\\mu$ (text)\n",
    "- $f(t)$ _Challenges_. Life including parts unknown in the tails (entire harmonic series) will throw things at you without any prejudice, as if `randomly` from a probability density function\n",
    "- $S(t)$ _Skills_. **Charity** of our forbears & our duty to others (ii-V7-i contain entire series here). Our cumulative heritage hands us an approach out of the spirit of music: what we are handed `displaces` us from the root to `ii`. And our forbears offer a step-wise, tried & tasted, well-trodden journey \"back\" home: `ii-V7-i`\n",
    "- $h(t)$ _Tools_. No quick home-cuming or path of least resistance. Rather, an obstacle-course that tests your strength, resilience, and build your muscle, bone, stamina, as well as emotional tension: your libido and drive is now like a dammed river, which builds a reservoir for future energy needs. Modes-qualities-relatives are the tools that create context for future surprises, tension, release\n",
    "\n",
    "### Dancing in chains, $\\sigma$ (context)\n",
    "- $(X’X)^T \\cdot X’Y$ _Agency_. **Hope** is placed in you by the agent-less masses. They understand that with all the tension in the bow that you've accrued, your banks run over; your cup runneth over; you can help them shoot for distant goals \n",
    "\n",
    "### Born to etiquette , $\\%$ (pretext)\n",
    "- $\\beta$ _Flow_. With an overflow of parameters and tools, they'll be able to leverage STEAM\n",
    "- $SV’$ _Undiminishing_. **Faith** that marginal utility from modal-quality-relative interchange will grow endlessly . GRIP\n",
    "\n",
    "```{margin}\n",
    "\n",
    "<Details>\n",
    "   <Summary> </Summary>\n",
    "\n",
    "   - *Genealogy of morality*\n",
    "   - *Tunakoberaku gha nga mwenewo nali neinhira ku matama*\n",
    "   - *Awononeire ekiwulu*   \n",
    "   - *Do not kill the messenger*\n",
    "   - *Endovu bakivuma obutako engezirawo*\n",
    "      - *European claims to originality couldn't be challenged by Africans since they were far more powerful*\n",
    "\n",
    "</Details>\n",
    "```\n",
    "\n",
    "## 2 Displacmeent\n",
    "\n",
    "- $\\pi$ _Fate_. The concept of heritage is indeed anchored in the continuity of place, community, and time. Our ancestors, rooted in their stable environments, passed down traditions, values, and practices that were cultivated over generations. They lived in a world where the community was often defined by a specific location, shared history, and a predictable rhythm of life. Iran has persian, islamic, and western influences, akin to three probability density functions with limited overlap. As such, the Iranian artist is likely to connect more with the persian, whereas the Iranian moralist with the islamic, and the class-anxious with the western.\n",
    "\n",
    "- $g(f)$ _Subdistribution_. However, the dynamics of displacement—whether through emigration, immigration, or diaspora—introduce complexity to this stability. These experiences disrupt the continuity of heritage, leading to the intermingling of cultures, adaptation to new environments, and the evolution of identities. Displacement forces individuals and communities to redefine their heritage in a new context, often blending old traditions with new influences. This process can be both enriching and challenging, as it requires a balance between preserving one's roots and embracing new experiences.\n",
    "\n",
    "- $ h_k(t) = \\lim_{\\Delta t \\to 0} \\frac{P(t \\leq T < t + \\Delta t, \\text{event} = k \\mid T \\geq t)}{\\Delta t}$ _Cause-specific_. Music, with its ii-V7-i progression, beautifully encapsulates this idea. The progression is a journey: starting from a point of tension (ii), moving through a dominant resolution (V7), and finally arriving at a place of rest (i). This musical journey mirrors the experience of displacement and diaspora. The tension of `leaving one's homeland`, the dominant forces of `adaptation and integration`, and the eventual resolution in finding a new `sense of belonging and identity`. In the context of disjointed times and the diaspora, our heritage becomes a living, breathing entity—constantly evolving, yet deeply connected to its origins. It's a testament to the resilience and adaptability of human culture, demonstrating how we can create harmony and meaning even amidst the most profound changes.\n",
    "\n",
    "```{margin}\n",
    "\n",
    "<Details>\n",
    "   <Summary> </Summary>\n",
    "Let's say we are studying the time to different types of failures in a mechanical system, where the failures can be due to electrical, mechanical, or software issues. The sub-hazard function for mechanical failures would tell us the instantaneous rate of mechanical failures at a given time, considering that other types of failures (electrical or software) could also occur and prevent a mechanical failure from happening.\n",
    "\n",
    "Understanding these functions and the sub-hazard's role allows for more nuanced and accurate modeling in the presence of competing risks, which is vital for informed decision-making and analysis in various fields, from medicine to engineering.\n",
    "\n",
    "</Details>\n",
    "```"
   ]
  }
 ],
 "metadata": {
  "kernelspec": {
   "display_name": "Python 3",
   "language": "python",
   "name": "python3"
  },
  "language_info": {
   "codemirror_mode": {
    "name": "ipython",
    "version": 3
   },
   "file_extension": ".py",
   "mimetype": "text/x-python",
   "name": "python",
   "nbconvert_exporter": "python",
   "pygments_lexer": "ipython3",
   "version": "3.12.4"
  },
  "widgets": {
   "application/vnd.jupyter.widget-state+json": {
    "state": {},
    "version_major": 2,
    "version_minor": 0
   }
  }
 },
 "nbformat": 4,
 "nbformat_minor": 4
}
